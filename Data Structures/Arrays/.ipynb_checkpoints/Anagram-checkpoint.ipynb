{
 "cells": [
  {
   "cell_type": "markdown",
   "metadata": {},
   "source": [
    "Anangram Check"
   ]
  },
  {
   "cell_type": "code",
   "execution_count": 1,
   "metadata": {},
   "outputs": [],
   "source": [
    "def Anagram(s1,s2):\n",
    "    \n",
    "    x = s1.lower()\n",
    "    y = s2.lower()\n",
    "    \n",
    "    if len(x) != len(y):              # IF the length of two strings are different, immediately we can say they are not Anagrams\n",
    "        return False\n",
    "    else:\n",
    "        dict = {}\n",
    "        \n",
    "        for i in x:                   # For the first time, the letter won't be in the dict, therefore make a key with the letter and make count as 1\n",
    "            if i in dict:\n",
    "                dict[i] += 1\n",
    "            else:\n",
    "                dict[i] = 1\n",
    "        \n",
    "        for i in y:                   # IF the letter is encoutered in the new string, reduce the count of the variable in the dictonary by 1\n",
    "            if i in dict:\n",
    "                dict[i] -= 1\n",
    "            else:\n",
    "                return False\n",
    "        \n",
    "        for k in dict:              # Create an iterator variable 'k' which will go through the dict and return 0, if the length of the dict is not 0, it means there has been an unmatched element\n",
    "            if dict[k] != 0:\n",
    "                return False\n",
    "            else:\n",
    "                return True     \n",
    "        "
   ]
  },
  {
   "cell_type": "code",
   "execution_count": 3,
   "metadata": {},
   "outputs": [
    {
     "data": {
      "text/plain": [
       "True"
      ]
     },
     "execution_count": 3,
     "metadata": {},
     "output_type": "execute_result"
    }
   ],
   "source": [
    "Anagram('Rahul','luhar')"
   ]
  },
  {
   "cell_type": "code",
   "execution_count": 4,
   "metadata": {},
   "outputs": [
    {
     "data": {
      "text/plain": [
       "False"
      ]
     },
     "execution_count": 4,
     "metadata": {},
     "output_type": "execute_result"
    }
   ],
   "source": [
    "Anagram('abc','def')"
   ]
  },
  {
   "cell_type": "code",
   "execution_count": 5,
   "metadata": {},
   "outputs": [
    {
     "data": {
      "text/plain": [
       "True"
      ]
     },
     "execution_count": 5,
     "metadata": {},
     "output_type": "execute_result"
    }
   ],
   "source": [
    "Anagram('AswQQ','qqSaw')"
   ]
  },
  {
   "cell_type": "code",
   "execution_count": null,
   "metadata": {},
   "outputs": [],
   "source": []
  },
  {
   "cell_type": "code",
   "execution_count": null,
   "metadata": {},
   "outputs": [],
   "source": []
  }
 ],
 "metadata": {
  "kernelspec": {
   "display_name": "Python 3",
   "language": "python",
   "name": "python3"
  },
  "language_info": {
   "codemirror_mode": {
    "name": "ipython",
    "version": 3
   },
   "file_extension": ".py",
   "mimetype": "text/x-python",
   "name": "python",
   "nbconvert_exporter": "python",
   "pygments_lexer": "ipython3",
   "version": "3.7.5"
  }
 },
 "nbformat": 4,
 "nbformat_minor": 4
}
