{
 "cells": [
  {
   "cell_type": "markdown",
   "metadata": {},
   "source": [
    "Basic Implementation of a Graph"
   ]
  },
  {
   "cell_type": "code",
   "execution_count": 42,
   "metadata": {},
   "outputs": [],
   "source": [
    "class Vertex:\n",
    "    \n",
    "    def __init__(self,key):\n",
    "        self.id = key \n",
    "        self.connectedTo = {}\n",
    "    \n",
    "    def addToNeighbour(self,nbr,weight=0):\n",
    "        self.connectedTo[nbr] = weight\n",
    "    \n",
    "    def getConnections(self):\n",
    "        return self.connectedTo.keys()\n",
    "    \n",
    "    def getId(self):\n",
    "        return self.id\n",
    "    \n",
    "    def getWeight(self,nbr):\n",
    "        return self.connectedTo[nbr]\n",
    "    \n",
    "    def __str__(self):\n",
    "        return str(self.id) + ' is connected to ' + str([x.id for x in self.connectedTo])        "
   ]
  },
  {
   "cell_type": "code",
   "execution_count": 43,
   "metadata": {},
   "outputs": [],
   "source": [
    "class Graph:\n",
    "    \n",
    "    def __init__(self):\n",
    "        self.vertList = {}\n",
    "        self.numVertices = 0\n",
    "        \n",
    "    def addVertex(self,key):\n",
    "        self.numVertices += 1\n",
    "        newVertex = Vertex(key)\n",
    "        self.vertList[key] = newVertex\n",
    "        return newVertex\n",
    "    \n",
    "    def getVertex(self,n):\n",
    "        if n in self.vertList:\n",
    "            return self.vertList[n]\n",
    "        else:\n",
    "            return None\n",
    "        \n",
    "    def getVertices(self):\n",
    "        return self.vertList.keys()\n",
    "    \n",
    "    def addEdge(self,f,t,cost):\n",
    "        if f not in self.vertList:\n",
    "            nv = self.addVertex(f)\n",
    "        if t not in self.vertList:\n",
    "            nv = self.addVertex(t)\n",
    "            \n",
    "        self.vertList[f].addToNeighbour(self.vertList[t], cost)\n",
    "        \n",
    "    def __iter__(self):\n",
    "         return iter(self.vertList.values())\n",
    "        \n",
    "    def __contains__(self):\n",
    "         return n in self.vertList        "
   ]
  },
  {
   "cell_type": "code",
   "execution_count": 44,
   "metadata": {},
   "outputs": [],
   "source": [
    "g = Graph()\n",
    "for i in range(6):\n",
    "    g.addVertex(i)"
   ]
  },
  {
   "cell_type": "code",
   "execution_count": 45,
   "metadata": {},
   "outputs": [
    {
     "data": {
      "text/plain": [
       "{0: <__main__.Vertex at 0x7f8dd40d0ad0>,\n",
       " 1: <__main__.Vertex at 0x7f8dd40d04d0>,\n",
       " 2: <__main__.Vertex at 0x7f8dd40d0810>,\n",
       " 3: <__main__.Vertex at 0x7f8dd40d01d0>,\n",
       " 4: <__main__.Vertex at 0x7f8dd40c18d0>,\n",
       " 5: <__main__.Vertex at 0x7f8dd40c1090>}"
      ]
     },
     "execution_count": 45,
     "metadata": {},
     "output_type": "execute_result"
    }
   ],
   "source": [
    "g.vertList"
   ]
  },
  {
   "cell_type": "code",
   "execution_count": 46,
   "metadata": {},
   "outputs": [],
   "source": [
    "g.addEdge(0,1,2)"
   ]
  },
  {
   "cell_type": "code",
   "execution_count": 47,
   "metadata": {},
   "outputs": [
    {
     "name": "stdout",
     "output_type": "stream",
     "text": [
      "0 is connected to [1]\n",
      "dict_keys([<__main__.Vertex object at 0x7f8dd40d04d0>])\n",
      "\n",
      "\n",
      "1 is connected to []\n",
      "dict_keys([])\n",
      "\n",
      "\n",
      "2 is connected to []\n",
      "dict_keys([])\n",
      "\n",
      "\n",
      "3 is connected to []\n",
      "dict_keys([])\n",
      "\n",
      "\n",
      "4 is connected to []\n",
      "dict_keys([])\n",
      "\n",
      "\n",
      "5 is connected to []\n",
      "dict_keys([])\n",
      "\n",
      "\n"
     ]
    }
   ],
   "source": [
    "for vertex in g:\n",
    "    print (vertex)\n",
    "    print (vertex.getConnections())\n",
    "    print ('\\n')"
   ]
  }
 ],
 "metadata": {
  "kernelspec": {
   "display_name": "Python 3",
   "language": "python",
   "name": "python3"
  },
  "language_info": {
   "codemirror_mode": {
    "name": "ipython",
    "version": 3
   },
   "file_extension": ".py",
   "mimetype": "text/x-python",
   "name": "python",
   "nbconvert_exporter": "python",
   "pygments_lexer": "ipython3",
   "version": "3.7.5"
  }
 },
 "nbformat": 4,
 "nbformat_minor": 4
}
