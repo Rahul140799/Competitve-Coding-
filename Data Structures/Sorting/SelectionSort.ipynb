{
 "cells": [
  {
   "cell_type": "markdown",
   "metadata": {},
   "source": [
    "Selection Sort Algorithm"
   ]
  },
  {
   "cell_type": "code",
   "execution_count": 4,
   "metadata": {},
   "outputs": [],
   "source": [
    "def selection_sort(arr):\n",
    "    for i in range(len(arr)-1,0,-1):\n",
    "        print('The value of i is',i)\n",
    "        position_max = 0\n",
    "        for k in range (1,i+1):\n",
    "            print('The value of index k is',k)\n",
    "            if arr[k] > arr[position_max]:\n",
    "                position_max = k\n",
    "                \n",
    "        temp = arr[i]\n",
    "        arr[i] = arr[position_max]\n",
    "        arr[position_max] = temp        "
   ]
  },
  {
   "cell_type": "code",
   "execution_count": null,
   "metadata": {},
   "outputs": [],
   "source": []
  },
  {
   "cell_type": "code",
   "execution_count": 5,
   "metadata": {},
   "outputs": [
    {
     "name": "stdout",
     "output_type": "stream",
     "text": [
      "The value of i is 7\n",
      "The value of index k is 1\n",
      "The value of index k is 2\n",
      "The value of index k is 3\n",
      "The value of index k is 4\n",
      "The value of index k is 5\n",
      "The value of index k is 6\n",
      "The value of index k is 7\n",
      "The value of i is 6\n",
      "The value of index k is 1\n",
      "The value of index k is 2\n",
      "The value of index k is 3\n",
      "The value of index k is 4\n",
      "The value of index k is 5\n",
      "The value of index k is 6\n",
      "The value of i is 5\n",
      "The value of index k is 1\n",
      "The value of index k is 2\n",
      "The value of index k is 3\n",
      "The value of index k is 4\n",
      "The value of index k is 5\n",
      "The value of i is 4\n",
      "The value of index k is 1\n",
      "The value of index k is 2\n",
      "The value of index k is 3\n",
      "The value of index k is 4\n",
      "The value of i is 3\n",
      "The value of index k is 1\n",
      "The value of index k is 2\n",
      "The value of index k is 3\n",
      "The value of i is 2\n",
      "The value of index k is 1\n",
      "The value of index k is 2\n",
      "The value of i is 1\n",
      "The value of index k is 1\n"
     ]
    }
   ],
   "source": [
    "arr = [7,2,1,6,3,0,4,5]\n",
    "selection_sort(arr)"
   ]
  },
  {
   "cell_type": "code",
   "execution_count": null,
   "metadata": {},
   "outputs": [],
   "source": []
  },
  {
   "cell_type": "code",
   "execution_count": 6,
   "metadata": {},
   "outputs": [
    {
     "data": {
      "text/plain": [
       "[0, 1, 2, 3, 4, 5, 6, 7]"
      ]
     },
     "execution_count": 6,
     "metadata": {},
     "output_type": "execute_result"
    }
   ],
   "source": [
    "arr"
   ]
  },
  {
   "cell_type": "code",
   "execution_count": null,
   "metadata": {},
   "outputs": [],
   "source": []
  },
  {
   "cell_type": "code",
   "execution_count": null,
   "metadata": {},
   "outputs": [],
   "source": []
  }
 ],
 "metadata": {
  "kernelspec": {
   "display_name": "Python 3",
   "language": "python",
   "name": "python3"
  },
  "language_info": {
   "codemirror_mode": {
    "name": "ipython",
    "version": 3
   },
   "file_extension": ".py",
   "mimetype": "text/x-python",
   "name": "python",
   "nbconvert_exporter": "python",
   "pygments_lexer": "ipython3",
   "version": "3.7.5"
  }
 },
 "nbformat": 4,
 "nbformat_minor": 4
}
