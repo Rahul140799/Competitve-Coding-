{
 "cells": [
  {
   "cell_type": "code",
   "execution_count": 2,
   "metadata": {},
   "outputs": [],
   "source": [
    "class ListNode:\n",
    "    def __init__(self, x):\n",
    "        self.val = x\n",
    "        self.next = None"
   ]
  },
  {
   "cell_type": "code",
   "execution_count": null,
   "metadata": {},
   "outputs": [],
   "source": []
  },
  {
   "cell_type": "code",
   "execution_count": 3,
   "metadata": {},
   "outputs": [],
   "source": [
    "def mergeTwoLists(self, l1: ListNode, l2: ListNode) -> ListNode:\n",
    "        dummy = ListNode()\n",
    "        head = dummy\n",
    "        \n",
    "        while(l1 != None and l2 != None):\n",
    "            if l1.val < l2.val:\n",
    "                dummy.next = l1\n",
    "                l1 = l1.next\n",
    "            else:\n",
    "                dummy.next = l2\n",
    "                l2 = l2.next\n",
    "                \n",
    "            dummy = dummy.next\n",
    "        \n",
    "        if l1 != None:\n",
    "            dummy.next = l1\n",
    "        else:\n",
    "            dummy.next = l2\n",
    "            \n",
    "        return head.next"
   ]
  }
 ],
 "metadata": {
  "kernelspec": {
   "display_name": "Python 3",
   "language": "python",
   "name": "python3"
  },
  "language_info": {
   "codemirror_mode": {
    "name": "ipython",
    "version": 3
   },
   "file_extension": ".py",
   "mimetype": "text/x-python",
   "name": "python",
   "nbconvert_exporter": "python",
   "pygments_lexer": "ipython3",
   "version": "3.7.5"
  }
 },
 "nbformat": 4,
 "nbformat_minor": 4
}
