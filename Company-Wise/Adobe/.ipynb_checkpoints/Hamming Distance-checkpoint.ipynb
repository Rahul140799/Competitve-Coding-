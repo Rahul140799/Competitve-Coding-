{
 "cells": [
  {
   "cell_type": "markdown",
   "metadata": {},
   "source": [
    "Hamming Distance : Code to find the number of differing bits between two numbers."
   ]
  },
  {
   "cell_type": "code",
   "execution_count": null,
   "metadata": {},
   "outputs": [],
   "source": []
  },
  {
   "cell_type": "code",
   "execution_count": 5,
   "metadata": {},
   "outputs": [],
   "source": [
    "def hammingDistance(x,y):\n",
    "    result = 0\n",
    "    while(x>0 or y>0):\n",
    "        result += (x%2) ^ (y%2)    # same value 0, different value 1 ( this step does comparison of last bit of x & y )\n",
    "        print(\"Result:\",result)\n",
    "        x >>= 1                    # binary shift operation or x = x//2\n",
    "        print(\"x:\",x)\n",
    "        y >>= 1                    # binary shift operation or  y = y//2\n",
    "        print(\"y:\",y)\n",
    "    return result"
   ]
  },
  {
   "cell_type": "markdown",
   "metadata": {},
   "source": [
    "Working :\n",
    "\n",
    "x => 2 -> 0 0 1 0\n",
    "y => 4 -> 0 1 0 0\n",
    "\n",
    "Step 1:\n",
    "result = 0 ^ 0 = 0\n",
    "                    8 4 2 1 \n",
    "x = x/2 = 2/2 = 1 ( 0 0 1 0 ) \n",
    "y = y/2 = 4/2 = 2 ( 0 1 0 0 )\n",
    "\n",
    "Upon Shift right, we get\n",
    "                      4 2 1\n",
    "           x = 1    ( 0 0 1 )\n",
    "           y = 2    ( 0 1 0 )\n",
    "           \n",
    "Repeat till end of x or y "
   ]
  },
  {
   "cell_type": "code",
   "execution_count": null,
   "metadata": {},
   "outputs": [],
   "source": []
  },
  {
   "cell_type": "code",
   "execution_count": null,
   "metadata": {},
   "outputs": [],
   "source": []
  },
  {
   "cell_type": "code",
   "execution_count": null,
   "metadata": {},
   "outputs": [],
   "source": []
  },
  {
   "cell_type": "code",
   "execution_count": 7,
   "metadata": {},
   "outputs": [
    {
     "name": "stdout",
     "output_type": "stream",
     "text": [
      "Result: 0\n",
      "x: 2\n",
      "y: 2\n",
      "Result: 0\n",
      "x: 1\n",
      "y: 1\n",
      "Result: 0\n",
      "x: 0\n",
      "y: 0\n",
      "0\n"
     ]
    }
   ],
   "source": [
    "x = 4\n",
    "y = 4\n",
    "z = hammingDistance(x,y)\n",
    "print(z)"
   ]
  },
  {
   "cell_type": "code",
   "execution_count": 8,
   "metadata": {},
   "outputs": [
    {
     "name": "stdout",
     "output_type": "stream",
     "text": [
      "Result: 1\n",
      "x: 2\n",
      "y: 0\n",
      "Result: 1\n",
      "x: 1\n",
      "y: 0\n",
      "Result: 2\n",
      "x: 0\n",
      "y: 0\n",
      "2\n"
     ]
    }
   ],
   "source": [
    "x = 4\n",
    "y = 1\n",
    "z = hammingDistance(x,y)\n",
    "print(z)"
   ]
  },
  {
   "cell_type": "code",
   "execution_count": null,
   "metadata": {},
   "outputs": [],
   "source": []
  },
  {
   "cell_type": "code",
   "execution_count": null,
   "metadata": {},
   "outputs": [],
   "source": []
  },
  {
   "cell_type": "code",
   "execution_count": null,
   "metadata": {},
   "outputs": [],
   "source": []
  },
  {
   "cell_type": "code",
   "execution_count": null,
   "metadata": {},
   "outputs": [],
   "source": []
  }
 ],
 "metadata": {
  "kernelspec": {
   "display_name": "Python 3",
   "language": "python",
   "name": "python3"
  },
  "language_info": {
   "codemirror_mode": {
    "name": "ipython",
    "version": 3
   },
   "file_extension": ".py",
   "mimetype": "text/x-python",
   "name": "python",
   "nbconvert_exporter": "python",
   "pygments_lexer": "ipython3",
   "version": "3.7.5"
  }
 },
 "nbformat": 4,
 "nbformat_minor": 4
}
