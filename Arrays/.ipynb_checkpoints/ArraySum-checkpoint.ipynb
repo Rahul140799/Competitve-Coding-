{
 "cells": [
  {
   "cell_type": "markdown",
   "metadata": {},
   "source": [
    "Array Sum"
   ]
  },
  {
   "cell_type": "markdown",
   "metadata": {},
   "source": [
    "Given an array and a target sum, find all pairs that generate the given sum. Solved using O(N^2)"
   ]
  },
  {
   "cell_type": "code",
   "execution_count": 62,
   "metadata": {},
   "outputs": [],
   "source": [
    "def ArraySum(arr,value):\n",
    "    counter = 0\n",
    "    for i in range(0,len(arr)):\n",
    "        for j in range(i+1,len(arr)):\n",
    "            if arr[i] + arr[j] == value:\n",
    "                counter += 1\n",
    "                print(arr[i],arr[j])   "
   ]
  },
  {
   "cell_type": "code",
   "execution_count": 63,
   "metadata": {},
   "outputs": [
    {
     "name": "stdout",
     "output_type": "stream",
     "text": [
      "1 2 3 2\n",
      "4 \n",
      "1 3\n",
      "2 2\n"
     ]
    }
   ],
   "source": [
    "arr = list(map(int,input().split()))\n",
    "value = int(input())\n",
    "ArraySum(arr,value)"
   ]
  },
  {
   "cell_type": "markdown",
   "metadata": {},
   "source": [
    "Solved using O(N) -> Set Function"
   ]
  },
  {
   "cell_type": "code",
   "execution_count": 53,
   "metadata": {},
   "outputs": [],
   "source": [
    "def ArraySum(arr,value):\n",
    "    \n",
    "    seen = set()\n",
    "    output = set()\n",
    "    \n",
    "    for num in arr:\n",
    "         target = value - num\n",
    "         \n",
    "         if num not in seen:\n",
    "                seen.add(num)\n",
    "        \n",
    "         else:\n",
    "                output.add((min(num,target),max(num,target)))\n",
    "                print('\\n'.join(map(str,list(output))))"
   ]
  },
  {
   "cell_type": "code",
   "execution_count": 54,
   "metadata": {},
   "outputs": [
    {
     "name": "stdout",
     "output_type": "stream",
     "text": [
      "1 2 3 2\n",
      "4\n",
      "(2, 2)\n"
     ]
    }
   ],
   "source": [
    "arr = list(map(int,input().split()))\n",
    "value = int(input())\n",
    "ArraySum(arr,value)"
   ]
  },
  {
   "cell_type": "code",
   "execution_count": null,
   "metadata": {},
   "outputs": [],
   "source": []
  },
  {
   "cell_type": "code",
   "execution_count": null,
   "metadata": {},
   "outputs": [],
   "source": []
  }
 ],
 "metadata": {
  "kernelspec": {
   "display_name": "Python 3",
   "language": "python",
   "name": "python3"
  },
  "language_info": {
   "codemirror_mode": {
    "name": "ipython",
    "version": 3
   },
   "file_extension": ".py",
   "mimetype": "text/x-python",
   "name": "python",
   "nbconvert_exporter": "python",
   "pygments_lexer": "ipython3",
   "version": "3.7.5"
  }
 },
 "nbformat": 4,
 "nbformat_minor": 4
}
