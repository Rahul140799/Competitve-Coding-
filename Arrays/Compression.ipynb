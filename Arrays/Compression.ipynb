{
 "cells": [
  {
   "cell_type": "code",
   "execution_count": 9,
   "metadata": {},
   "outputs": [],
   "source": [
    "def compress(st):\n",
    "\n",
    "    d = dict()          # Never initalize dictionary with dict = {} , because dict is a constructor of dictionary class.\n",
    "                        # Always use the method describes above.   \n",
    "    for i in st:        # Never pass str as an argument, because str is a constructor of string class.\n",
    "        if i not in d:\n",
    "            d[i] = 1    \n",
    "        else:\n",
    "            d[i] += 1\n",
    "                         # .replace method works only on strings and takes two arguments.    \n",
    "    print(str(d).replace('{','').replace('}','').replace(\"'\",'').replace(\":\",'').replace(\",\",'').replace(\" \",''))"
   ]
  },
  {
   "cell_type": "code",
   "execution_count": 13,
   "metadata": {},
   "outputs": [
    {
     "name": "stdout",
     "output_type": "stream",
     "text": [
      "A7B5C7a5b4c5\n"
     ]
    }
   ],
   "source": [
    "compress(\"AAAAAAABBBBBCCCCCCCaaaaabbbbccccc\")"
   ]
  }
 ],
 "metadata": {
  "kernelspec": {
   "display_name": "Python 3",
   "language": "python",
   "name": "python3"
  },
  "language_info": {
   "codemirror_mode": {
    "name": "ipython",
    "version": 3
   },
   "file_extension": ".py",
   "mimetype": "text/x-python",
   "name": "python",
   "nbconvert_exporter": "python",
   "pygments_lexer": "ipython3",
   "version": "3.7.5"
  }
 },
 "nbformat": 4,
 "nbformat_minor": 4
}
