{
 "cells": [
  {
   "cell_type": "markdown",
   "metadata": {},
   "source": [
    "Walls and Bricks"
   ]
  },
  {
   "cell_type": "code",
   "execution_count": 13,
   "metadata": {},
   "outputs": [],
   "source": [
    "import math\n",
    "def route(rooms):\n",
    "    for i in range(len(rooms)):\n",
    "        for j in range(len(rooms[i])):\n",
    "            if rooms[i][j] == 0:\n",
    "                dfs(i,j,0,rooms)\n",
    "                print(rooms)\n",
    "    return rooms"
   ]
  },
  {
   "cell_type": "code",
   "execution_count": 14,
   "metadata": {},
   "outputs": [],
   "source": [
    "def dfs(i,j,count,rooms):\n",
    "    if i<0 or i>=len(rooms) or j<0 or j>=len(rooms[i]) or rooms[i][j] < count:\n",
    "        return\n",
    "    \n",
    "    rooms[i][j] = count\n",
    "    \n",
    "    dfs(i+1,j,count+1,rooms)\n",
    "    dfs(i-1,j,count+1,rooms)\n",
    "    dfs(i,j+1,count+1,rooms)\n",
    "    dfs(i,j-1,count+1,rooms)\n",
    "    "
   ]
  },
  {
   "cell_type": "code",
   "execution_count": 16,
   "metadata": {},
   "outputs": [
    {
     "name": "stdout",
     "output_type": "stream",
     "text": [
      "[[inf, -1, 0, 1], [inf, -1, 1, -1], [inf, -1, 2, -1], [0, -1, 3, 4]]\n",
      "[[3, -1, 0, 1], [2, -1, 1, -1], [1, -1, 2, -1], [0, -1, 3, 4]]\n",
      "[[3, -1, 0, 1], [2, -1, 1, -1], [1, -1, 2, -1], [0, -1, 3, 4]]\n"
     ]
    }
   ],
   "source": [
    "import math\n",
    "rooms = [[math.inf,-1,0,math.inf],[math.inf,-1,math.inf,-1],[math.inf,-1,math.inf,-1],[0,-1,math.inf,math.inf]]\n",
    "x = route(rooms)\n",
    "print(x)"
   ]
  },
  {
   "cell_type": "code",
   "execution_count": null,
   "metadata": {},
   "outputs": [],
   "source": []
  }
 ],
 "metadata": {
  "kernelspec": {
   "display_name": "Python 3",
   "language": "python",
   "name": "python3"
  },
  "language_info": {
   "codemirror_mode": {
    "name": "ipython",
    "version": 3
   },
   "file_extension": ".py",
   "mimetype": "text/x-python",
   "name": "python",
   "nbconvert_exporter": "python",
   "pygments_lexer": "ipython3",
   "version": "3.7.5"
  }
 },
 "nbformat": 4,
 "nbformat_minor": 4
}
