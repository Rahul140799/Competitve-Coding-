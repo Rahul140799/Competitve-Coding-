{
 "cells": [
  {
   "cell_type": "markdown",
   "metadata": {},
   "source": [
    "Walls and Bricks"
   ]
  },
  {
   "cell_type": "code",
   "execution_count": 24,
   "metadata": {},
   "outputs": [],
   "source": [
    "import math\n",
    "def route(rooms):\n",
    "    for i in range(len(rooms)):\n",
    "        for j in range(len(rooms[i])):\n",
    "            if rooms[i][j] == 0:\n",
    "                dfs(i,j,0,rooms)\n",
    "    return dfs"
   ]
  },
  {
   "cell_type": "code",
   "execution_count": 25,
   "metadata": {},
   "outputs": [],
   "source": [
    "def dfs(i,j,count,rooms):\n",
    "    if i<0 or i>=len(rooms) or j<0 or j>=len(rooms[i]) or rooms[i][j] < count:\n",
    "        return \n",
    "    \n",
    "    rooms[i][j] = count\n",
    "    \n",
    "    dfs(i+1,j,count+1,rooms)\n",
    "    dfs(i-1,j,count+1,rooms)\n",
    "    dfs(i,j+1,count+1,rooms)\n",
    "    dfs(i,j-1,count+1,rooms)"
   ]
  },
  {
   "cell_type": "code",
   "execution_count": 26,
   "metadata": {},
   "outputs": [
    {
     "name": "stdout",
     "output_type": "stream",
     "text": [
      "<function dfs at 0x7f3a2cf1c560>\n"
     ]
    }
   ],
   "source": [
    "import math\n",
    "rooms = [[math.inf,-1,0,math.inf],[math.inf,math.inf,math.inf,-1],[math.inf,-1,math.inf,-1],[0,-1,math.inf,math.inf]]\n",
    "x = route(rooms)\n",
    "print(x)"
   ]
  }
 ],
 "metadata": {
  "kernelspec": {
   "display_name": "Python 3",
   "language": "python",
   "name": "python3"
  },
  "language_info": {
   "codemirror_mode": {
    "name": "ipython",
    "version": 3
   },
   "file_extension": ".py",
   "mimetype": "text/x-python",
   "name": "python",
   "nbconvert_exporter": "python",
   "pygments_lexer": "ipython3",
   "version": "3.7.5"
  }
 },
 "nbformat": 4,
 "nbformat_minor": 4
}
