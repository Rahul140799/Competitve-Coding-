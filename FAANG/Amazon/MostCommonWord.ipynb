{
 "cells": [
  {
   "cell_type": "markdown",
   "metadata": {},
   "source": [
    "Most Common Word "
   ]
  },
  {
   "cell_type": "code",
   "execution_count": 87,
   "metadata": {},
   "outputs": [],
   "source": [
    "import string\n",
    "def Word(para,ban):\n",
    "    res = []\n",
    "    out = []\n",
    "    d = {}\n",
    "    \n",
    "    for i in para:\n",
    "        if i in string.punctuation:\n",
    "            para = para.replace(i,\" \")\n",
    "    \n",
    "    new = para.lower().split()\n",
    "    \n",
    "    print(new)\n",
    "    \n",
    "    for i in new:\n",
    "        if i not in ban:\n",
    "            res.append(i)\n",
    "    print(res)\n",
    "    \n",
    "    for i in res:\n",
    "        if i not in d:\n",
    "            d[i] = 1\n",
    "        else:\n",
    "            d[i] += 1\n",
    "    print(d)\n",
    "            \n",
    "    for i in d.values():\n",
    "        out.append(i)\n",
    "    print(out)\n",
    "\n",
    "    for key,value in d.items():\n",
    "        if value == max(out):\n",
    "            return key\n",
    "            "
   ]
  },
  {
   "cell_type": "code",
   "execution_count": null,
   "metadata": {},
   "outputs": [],
   "source": []
  },
  {
   "cell_type": "code",
   "execution_count": null,
   "metadata": {},
   "outputs": [],
   "source": []
  },
  {
   "cell_type": "code",
   "execution_count": null,
   "metadata": {},
   "outputs": [],
   "source": []
  },
  {
   "cell_type": "code",
   "execution_count": null,
   "metadata": {},
   "outputs": [],
   "source": []
  },
  {
   "cell_type": "code",
   "execution_count": 86,
   "metadata": {},
   "outputs": [
    {
     "name": "stdout",
     "output_type": "stream",
     "text": [
      "['a', 'a', 'a', 'a', 'b', 'b', 'b', 'c', 'c']\n",
      "['b', 'b', 'b', 'c', 'c']\n",
      "{'b': 3, 'c': 2}\n",
      "[3, 2]\n",
      "b\n"
     ]
    }
   ],
   "source": [
    "para = \"a, a, a, a, b,b,b,c, c\"\n",
    "ban = [\"a\"]\n",
    "x = Word(para,ban)\n",
    "print(x)"
   ]
  },
  {
   "cell_type": "code",
   "execution_count": null,
   "metadata": {},
   "outputs": [],
   "source": []
  },
  {
   "cell_type": "code",
   "execution_count": null,
   "metadata": {},
   "outputs": [],
   "source": []
  },
  {
   "cell_type": "code",
   "execution_count": null,
   "metadata": {},
   "outputs": [],
   "source": []
  },
  {
   "cell_type": "code",
   "execution_count": 81,
   "metadata": {},
   "outputs": [
    {
     "name": "stdout",
     "output_type": "stream",
     "text": [
      "['bob', 'hit', 'a', 'ball', 'the', 'hit', 'ball', 'flew', 'far', 'after', 'it', 'was', 'hit']\n",
      "['bob', 'a', 'ball', 'the', 'ball', 'flew', 'far', 'after', 'it', 'was']\n",
      "{'bob': 1, 'a': 1, 'ball': 2, 'the': 1, 'flew': 1, 'far': 1, 'after': 1, 'it': 1, 'was': 1}\n",
      "[1, 1, 2, 1, 1, 1, 1, 1, 1]\n",
      "ball\n"
     ]
    }
   ],
   "source": [
    "para = \"Bob hit a ball, the hit BALL flew far after it was hit\"\n",
    "ban = [\"hit\"]\n",
    "x = Word(para,ban)\n",
    "print(x)"
   ]
  },
  {
   "cell_type": "code",
   "execution_count": 78,
   "metadata": {},
   "outputs": [],
   "source": [
    "import string\n",
    "def Word(para,ban):\n",
    "    para = para.lower()\n",
    "    print(para)\n",
    "    for i in para:\n",
    "        if i in string.punctuation:\n",
    "            para = para.replace(i,\" \")\n",
    "    new=[]\n",
    "    l = para.split()\n",
    "    for i in l:\n",
    "        if i not in ban:\n",
    "            new.append(i)\n",
    "    print(new)    \n",
    "            "
   ]
  },
  {
   "cell_type": "code",
   "execution_count": null,
   "metadata": {},
   "outputs": [],
   "source": []
  },
  {
   "cell_type": "code",
   "execution_count": 79,
   "metadata": {},
   "outputs": [
    {
     "name": "stdout",
     "output_type": "stream",
     "text": [
      "bob hit a ball, the hit ball flew far after it was hit\n",
      "['bob', 'a', 'ball', 'the', 'ball', 'flew', 'far', 'after', 'it', 'was']\n",
      "None\n"
     ]
    }
   ],
   "source": [
    "para = \"Bob hit a ball, the hit BALL flew far after it was hit\"\n",
    "ban = [\"hit\"]\n",
    "x = Word(para,ban)\n",
    "print(x)"
   ]
  },
  {
   "cell_type": "code",
   "execution_count": null,
   "metadata": {},
   "outputs": [],
   "source": []
  },
  {
   "cell_type": "code",
   "execution_count": null,
   "metadata": {},
   "outputs": [],
   "source": []
  },
  {
   "cell_type": "code",
   "execution_count": null,
   "metadata": {},
   "outputs": [],
   "source": []
  },
  {
   "cell_type": "code",
   "execution_count": null,
   "metadata": {},
   "outputs": [],
   "source": []
  },
  {
   "cell_type": "code",
   "execution_count": 76,
   "metadata": {},
   "outputs": [
    {
     "name": "stdout",
     "output_type": "stream",
     "text": [
      "['b', 'b', 'b', 'c', 'c']\n",
      "None\n"
     ]
    }
   ],
   "source": [
    "para = \"a, a, a, a, b,b,b,c, c\"\n",
    "ban = [\"a\"]\n",
    "x = Word(para,ban)\n",
    "print(x)"
   ]
  },
  {
   "cell_type": "code",
   "execution_count": null,
   "metadata": {},
   "outputs": [],
   "source": []
  },
  {
   "cell_type": "code",
   "execution_count": null,
   "metadata": {},
   "outputs": [],
   "source": []
  },
  {
   "cell_type": "code",
   "execution_count": null,
   "metadata": {},
   "outputs": [],
   "source": []
  },
  {
   "cell_type": "code",
   "execution_count": null,
   "metadata": {},
   "outputs": [],
   "source": []
  },
  {
   "cell_type": "code",
   "execution_count": null,
   "metadata": {},
   "outputs": [],
   "source": []
  }
 ],
 "metadata": {
  "kernelspec": {
   "display_name": "Python 3",
   "language": "python",
   "name": "python3"
  },
  "language_info": {
   "codemirror_mode": {
    "name": "ipython",
    "version": 3
   },
   "file_extension": ".py",
   "mimetype": "text/x-python",
   "name": "python",
   "nbconvert_exporter": "python",
   "pygments_lexer": "ipython3",
   "version": "3.7.5"
  }
 },
 "nbformat": 4,
 "nbformat_minor": 4
}
